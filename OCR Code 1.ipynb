{
 "cells": [
  {
   "cell_type": "code",
   "execution_count": 17,
   "id": "37fd2f80",
   "metadata": {},
   "outputs": [],
   "source": [
    "# Useful libraries\n",
    "from pdf2image import convert_from_path\n",
    "from pytesseract import image_to_string"
   ]
  },
  {
   "cell_type": "code",
   "execution_count": 18,
   "id": "b833e39b",
   "metadata": {},
   "outputs": [],
   "source": [
    "def convert_pdf_to_img(pdf_file):\n",
    "    \"\"\"\n",
    "    @desc: this function converts a PDF into Image\n",
    "    \n",
    "    @params:\n",
    "        - pdf_file: the file to be converted\n",
    "    \n",
    "    @returns:\n",
    "        - an interable containing image format of all the pages of the PDF\n",
    "    \"\"\"\n",
    "    return convert_from_path(pdf_file, poppler_path=r'C:\\Program Files\\poppler-0.68.0\\bin')\n",
    "\n",
    "\n",
    "def convert_image_to_text(file):\n",
    "    \"\"\"\n",
    "    @desc: this function extracts text from image\n",
    "    \n",
    "    @params:\n",
    "        - file: the image file to extract the content\n",
    "    \n",
    "    @returns:\n",
    "        - the textual content of single image\n",
    "    \"\"\"\n",
    "    \n",
    "    text = image_to_string(file)\n",
    "    return text\n",
    "\n",
    "\n",
    "def get_text_from_any_pdf(pdf_file):\n",
    "    \"\"\"\n",
    "    @desc: this function is our final system combining the previous functions\n",
    "    \n",
    "    @params:\n",
    "        - file: the original PDF File\n",
    "    \n",
    "    @returns:\n",
    "        - the textual content of ALL the pages\n",
    "    \"\"\"\n",
    "    images = convert_pdf_to_img(pdf_file)\n",
    "    final_text = \"\"\n",
    "    for pg, img in enumerate(images):\n",
    "        \n",
    "        final_text += convert_image_to_text(img)\n",
    "        #print(\"Page n°{}\".format(pg))\n",
    "        #print(convert_image_to_text(img))\n",
    "    \n",
    "    return final_text"
   ]
  },
  {
   "cell_type": "code",
   "execution_count": 21,
   "id": "8613d191",
   "metadata": {},
   "outputs": [],
   "source": [
    "path_to_pdf = \"sample_pdf\\BD\\March 2022\\Supporting Docs\\E-Bill_CTG Regional Office_Feb'22.pdf\""
   ]
  },
  {
   "cell_type": "code",
   "execution_count": 22,
   "id": "e261ed41",
   "metadata": {
    "scrolled": true
   },
   "outputs": [
    {
     "name": "stdout",
     "output_type": "stream",
     "text": [
      "ELECTRIC & UTILITY BILL\n",
      "\n",
      "A.Zaman Fishing\n",
      "AKHTARUZZAMAN CENTER [CC 2 DO oe\n",
      "\n",
      "21/22, Agrabad, C/A Agrabad, Chittagong. Phone-2522308,25 10695\n",
      "\n",
      "Date:- 01.03.2022\n",
      "\n",
      "Issue Date:- 01.03.2022\n",
      "SI NO- 73 LastPmnt. Date:- 10.03.2022\n",
      "\n",
      "Location :- 11th Floor\n",
      "Meter No:- 066126\n",
      "\n",
      "E.Co Bangladesh Co.\n",
      "Present Meter Reading:- - 1890\n",
      "Previous Meter Reding - 1856\n",
      "Reading Difference - 34\n",
      "Consume Unit( with ct factor 20) 20 - 680 KWH\n",
      "\n",
      "Consume Charge 7,881.20 |TK\n",
      "Demand Charge @ 6%\n",
      "VAT @5%\n",
      "\n",
      "Generator Bill 2Kw X 2000/-\n",
      "\n",
      "Total Bill\n",
      "\n",
      "8,772\n",
      "\n",
      "4,000.00 |TK\n",
      "12,771.78 TK\n",
      "\n",
      "Received By JectrNal Engineer\n",
      "\n"
     ]
    }
   ],
   "source": [
    "print(get_text_from_any_pdf(path_to_pdf))"
   ]
  }
 ],
 "metadata": {
  "kernelspec": {
   "display_name": "Python 3 (ipykernel)",
   "language": "python",
   "name": "python3"
  },
  "language_info": {
   "codemirror_mode": {
    "name": "ipython",
    "version": 3
   },
   "file_extension": ".py",
   "mimetype": "text/x-python",
   "name": "python",
   "nbconvert_exporter": "python",
   "pygments_lexer": "ipython3",
   "version": "3.9.7"
  }
 },
 "nbformat": 4,
 "nbformat_minor": 5
}
